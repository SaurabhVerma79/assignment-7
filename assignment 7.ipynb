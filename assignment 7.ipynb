{
 "cells": [
  {
   "cell_type": "code",
   "execution_count": 5,
   "id": "eec8168e-da84-4cd1-9647-6d8ccfc0d149",
   "metadata": {},
   "outputs": [
    {
     "name": "stdout",
     "output_type": "stream",
     "text": [
      "2315262738624675840\n"
     ]
    }
   ],
   "source": [
    "#question1\n",
    "#a function which will take a list as an argument and return the product of all the numbers after creating a flat list.\n",
    "def product_of_numbers(lst):\n",
    "    flat_list = []\n",
    "    def flatten(lst):\n",
    "        for item in lst:\n",
    "            if type(item) == list or type(item) == tuple or type(item) == set or type(item) == dict:\n",
    "                flatten(item)\n",
    "            elif type(item) == int or type(item) == float:\n",
    "                flat_list.append(item)\n",
    "    flatten(lst)\n",
    "    product = 1\n",
    "    for num in flat_list:\n",
    "        product *= num\n",
    "    return product\n",
    "\n",
    "list1 = [1,2,3,4, [44,55,66, True], False, (34,56,78,89,34), {1,2,3,3,2,1}, {1:34, \"key2\": [55, 67, 78, 89], 4: (45, 22, 61, 34)}, [56, 'data science'], 'Machine Learning']\n",
    "print(product_of_numbers(list1))\n",
    "\n",
    "    \n",
    "    "
   ]
  },
  {
   "cell_type": "code",
   "execution_count": 6,
   "id": "e95116e0-867f-453f-8f6a-7eccf54bc638",
   "metadata": {},
   "outputs": [
    {
     "name": "stdin",
     "output_type": "stream",
     "text": [
      " I want to become a Data Scientist.\n"
     ]
    },
    {
     "name": "stdout",
     "output_type": "stream",
     "text": [
      "Encrypted message: I$dzmg$gl$yvxlnv$z$Dzgz$Sxrvmgrhg.\n"
     ]
    }
   ],
   "source": [
    "#question2\n",
    "def encrypt(message):\n",
    "    # Map each letter to its encrypted form\n",
    "    mapping = {'a': 'z', 'b': 'y', 'c': 'x', 'd': 'w', 'e': 'v', 'f': 'u', 'g': 't', 'h': 's', 'i': 'r', 'j': 'q',\n",
    "               'k': 'p', 'l': 'o', 'm': 'n', 'n': 'm', 'o': 'l', 'p': 'k', 'q': 'j', 'r': 'i', 's': 'h', 't': 'g',\n",
    "               'u': 'f', 'v': 'e', 'w': 'd', 'x': 'c', 'y': 'b', 'z': 'a', ' ': '$'}\n",
    "\n",
    "    encrypted_message = \"\"\n",
    "    for char in message:\n",
    "        if char in mapping:\n",
    "            encrypted_message += mapping[char]\n",
    "        else:\n",
    "            encrypted_message += char\n",
    "\n",
    "    return encrypted_message\n",
    "\n",
    "# Test the encryption\n",
    "message = input()\n",
    "encrypted_message = encrypt(message)\n",
    "print(\"Encrypted message:\", encrypted_message)"
   ]
  },
  {
   "cell_type": "code",
   "execution_count": null,
   "id": "e0a52b8a-62b8-4bf5-9eeb-cb0e8162910f",
   "metadata": {},
   "outputs": [],
   "source": []
  }
 ],
 "metadata": {
  "kernelspec": {
   "display_name": "Python 3 (ipykernel)",
   "language": "python",
   "name": "python3"
  },
  "language_info": {
   "codemirror_mode": {
    "name": "ipython",
    "version": 3
   },
   "file_extension": ".py",
   "mimetype": "text/x-python",
   "name": "python",
   "nbconvert_exporter": "python",
   "pygments_lexer": "ipython3",
   "version": "3.10.8"
  }
 },
 "nbformat": 4,
 "nbformat_minor": 5
}
